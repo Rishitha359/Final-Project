{
 "cells": [
  {
   "cell_type": "markdown",
   "metadata": {},
   "source": [
    "### Copying File from Source to Raw Layer"
   ]
  },
  {
   "cell_type": "code",
   "execution_count": 1,
   "metadata": {},
   "outputs": [
    {
     "name": "stdout",
     "output_type": "stream",
     "text": [
      "Copied: employees.csv to raw_employees.csv\n",
      "Copied: scores.csv to raw_scores.csv\n",
      "Copied: trainings.csv to raw_trainings.csv\n"
     ]
    }
   ],
   "source": [
    "import os\n",
    "import shutil\n",
    "\n",
    "def copy_csv_files(source_folder, destination_folder):\n",
    "\n",
    "    for filename in os.listdir(source_folder):\n",
    "        \n",
    "        if filename.endswith('.csv'):\n",
    "            \n",
    "            source_file = os.path.join(source_folder, filename)\n",
    "            new_file_name = f'raw_{filename}'\n",
    "            destination_file = os.path.join(destination_folder, new_file_name)\n",
    "\n",
    "            # Copy the file\n",
    "            shutil.copy(source_file, destination_file)\n",
    "            print(f'Copied: {filename} to {new_file_name}')\n",
    "\n",
    "source = r'C:\\Users\\VenkataRishitha\\Training\\Final Project 30-09-2024\\Data Engineering\\Source'\n",
    "destination = r'C:\\Users\\VenkataRishitha\\Training\\Final Project 30-09-2024\\Data Engineering\\Raw'\n",
    "\n",
    "copy_csv_files(source, destination)\n"
   ]
  },
  {
   "cell_type": "markdown",
   "metadata": {},
   "source": []
  }
 ],
 "metadata": {
  "kernelspec": {
   "display_name": "Python 3",
   "language": "python",
   "name": "python3"
  },
  "language_info": {
   "codemirror_mode": {
    "name": "ipython",
    "version": 3
   },
   "file_extension": ".py",
   "mimetype": "text/x-python",
   "name": "python",
   "nbconvert_exporter": "python",
   "pygments_lexer": "ipython3",
   "version": "3.12.5"
  }
 },
 "nbformat": 4,
 "nbformat_minor": 2
}
