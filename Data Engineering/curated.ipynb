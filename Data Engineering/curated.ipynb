{
 "cells": [
  {
   "cell_type": "markdown",
   "metadata": {},
   "source": [
    "# Generating Curated table"
   ]
  },
  {
   "cell_type": "markdown",
   "metadata": {},
   "source": [
    "### Merging three tables"
   ]
  },
  {
   "cell_type": "code",
   "execution_count": 6,
   "metadata": {},
   "outputs": [
    {
     "name": "stdout",
     "output_type": "stream",
     "text": [
      "Generated curated Table\n"
     ]
    }
   ],
   "source": [
    "import pandas as pd\n",
    "\n",
    "# Loading csv files\n",
    "employees_df = pd.read_csv(r'C:\\Users\\VenkataRishitha\\Training\\Final Project 30-09-2024\\Data Engineering\\Reporting\\dim_employees.csv')\n",
    "training_df = pd.read_csv(r'C:\\Users\\VenkataRishitha\\Training\\Final Project 30-09-2024\\Data Engineering\\Reporting\\dim_trainings.csv')\n",
    "score_df = pd.read_csv(r'C:\\Users\\VenkataRishitha\\Training\\Final Project 30-09-2024\\Data Engineering\\Reporting\\fact_scores.csv')\n",
    "\n",
    "# Merge score and employee table\n",
    "combined_table = pd.merge(score_df, employees_df, how='left', left_on='Emp_id', right_on='Emp_id')\n",
    "\n",
    "# Merge combined table with training table\n",
    "combined_table = pd.merge(combined_table, training_df, how='left', left_on='Training_id', right_on='training_id')\n",
    "\n",
    "combined_table.drop(columns=['training_id'], inplace=True)\n",
    "\n",
    "combined_table.to_csv(r\"C:\\Users\\VenkataRishitha\\Training\\Final Project 30-09-2024\\Data Engineering\\Curated\\curated_table.csv\", index=False)\n",
    "\n",
    "print(\"Generated curated Table\")"
   ]
  },
  {
   "cell_type": "code",
   "execution_count": 5,
   "metadata": {},
   "outputs": [],
   "source": [
    "import numpy as np\n",
    "num_changes = int(len(combined_table) * 0.1)\n",
    "\n",
    "# Get random indices to change\n",
    "random_indices = np.random.choice(combined_table.index, size=num_changes, replace=False)\n",
    "\n",
    "# Flip the values of is_promoted for the selected indices\n",
    "combined_table.loc[random_indices, 'is_promoted'] = combined_table.loc[random_indices, 'is_promoted'].apply(lambda x: 1 if x == 0 else 0)\n",
    "\n",
    "# Save the modified DataFrame back to the same CSV file\n",
    "combined_table.to_csv(r\"C:\\Users\\VenkataRishitha\\Training\\Final Project 30-09-2024\\Data Engineering\\Curated\\curated_table.csv\", index=False)"
   ]
  }
 ],
 "metadata": {
  "kernelspec": {
   "display_name": "Python 3",
   "language": "python",
   "name": "python3"
  },
  "language_info": {
   "codemirror_mode": {
    "name": "ipython",
    "version": 3
   },
   "file_extension": ".py",
   "mimetype": "text/x-python",
   "name": "python",
   "nbconvert_exporter": "python",
   "pygments_lexer": "ipython3",
   "version": "3.12.5"
  }
 },
 "nbformat": 4,
 "nbformat_minor": 2
}
